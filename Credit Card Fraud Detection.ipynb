{
 "cells": [
  {
   "cell_type": "markdown",
   "metadata": {},
   "source": [
    "## Anomaly Detection in Finance:  Credit Card Fraud Detection\n",
    "####  Synthesized Techniques of Unsupervised Learning and its Application"
   ]
  },
  {
   "cell_type": "markdown",
   "metadata": {},
   "source": [
    "# Abstract\n",
    "\n",
    "Outlier detection with machine learning algorithms is applicable in many fields. Automated transaction monitoring is an area where outlier detection is being used, especially in fighting financial crimes like credit card fraud and money laundering.\n",
    "\n",
    "`We will see the application of anomaly detection technique on credit card transactions through unsupervised machine learning methods.`"
   ]
  },
  {
   "cell_type": "markdown",
   "metadata": {},
   "source": [
    "# What and Why Outlier Detection?\n",
    "Outlier detection, also known as anomaly detection is frequently used to identify rare patterns and events which raise suspicions. From health monitoring (brain scan or MRI scan) and event detection in sensor networks to ecosystem disturbance, we can find many applications of anomaly detection.\n",
    "\n",
    "In a real world scenario, an unsupervised model is used primarily as a seed to create labelled data. However often we run into issues in the process. \n",
    "\n",
    "Take detecting the probability of an employee's securities fraud as an example. The dataset that the organization will look into is very high dimensional and complex. Without indepth domain knowledge, formulating algorithms to detect fraud is very difficult. Furthermore, issues such as confidentiality makes it even harder to do the job.\n",
    "\n",
    "This is where unsupervised learning shines. Even with very limited domain knowledge, an unsupervised algorithm can be used to create a list of possible anomalies or outliers which will be reported to an auditing team which then generates the true labels by their investigation. Over time when enough data labels are created, the unsupervised problem can be reformed as a supervised machine learning problem.\n",
    "\n",
    "Here we will discuss a number of unsupervised machine learning algorithms which have their own distinctive approach. `We will be able to compare the benchmakr of each model and then demonstrate how to make a list of flagged credit card transactions as fraudulent.`"
   ]
  },
  {
   "cell_type": "code",
   "execution_count": 1,
   "metadata": {},
   "outputs": [
    {
     "name": "stderr",
     "output_type": "stream",
     "text": [
      "/Users/bringmesalad/anaconda3/lib/python3.6/site-packages/sklearn/externals/joblib/__init__.py:15: DeprecationWarning: sklearn.externals.joblib is deprecated in 0.21 and will be removed in 0.23. Please import this functionality directly from joblib, which can be installed with: pip install joblib. If this warning is raised when loading pickled models, you may need to re-serialize those models with scikit-learn 0.21+.\n",
      "  warnings.warn(msg, category=DeprecationWarning)\n"
     ]
    }
   ],
   "source": [
    "import numpy as np\n",
    "import pandas as pd\n",
    "import time\n",
    "\n",
    "import matplotlib.pyplot as plt\n",
    "import seaborn as sns\n",
    "\n",
    "import warnings\n",
    "warnings.filterwarnings('ignore')\n",
    "\n",
    "from sklearn.manifold import TSNE\n",
    "from sklearn.model_selection import train_test_split, GridSearchCV\n",
    "from sklearn.metrics import confusion_matrix, precision_score, recall_score, classification_report, roc_curve, roc_auc_score,accuracy_score,precision_recall_curve,f1_score\n",
    "from sklearn.preprocessing import RobustScaler\n",
    "\n",
    "from sklearn.cluster import KMeans\n",
    "from sklearn.externals import joblib\n",
    "\n",
    "from pyod.utils import precision_n_scores\n",
    "from pyod.utils.data import evaluate_print"
   ]
  },
  {
   "cell_type": "code",
   "execution_count": 84,
   "metadata": {},
   "outputs": [],
   "source": [
    "#Loading dataset\n",
    "df_origin=pd.read_csv('creditcard.csv') #Keeping the original for visualization and such\n",
    "df = pd.read_csv('creditcard.csv') #dataframe for work"
   ]
  },
  {
   "cell_type": "markdown",
   "metadata": {},
   "source": [
    "# Introduction of dataset"
   ]
  },
  {
   "cell_type": "markdown",
   "metadata": {},
   "source": [
    "The datasets contains transactions made by credit cards in September 2013 by european cardholders. This dataset presents transactions that occurred in two days, where we have 492 frauds out of 284,807 transactions. The dataset is highly unbalanced, the positive class (frauds) account for 0.172% of all transactions.\n",
    "\n",
    "It contains only numerical input variables which are the result of a PCA transformation. Unfortunately, due to confidentiality issues, original features are anonymized and only the amount and time of transaction is revealed. Feature 'Class' is the response variable and it takes value 1 in case of fraud and 0 otherwise."
   ]
  },
  {
   "cell_type": "markdown",
   "metadata": {},
   "source": [
    "# Exploratory Data Analysis \n",
    "During EDA phase, we will explore our data in various ways and though our focus here is to apply unsupervised machine learning model but data came in with the label so we will use it for EDA part only.\n",
    "\n",
    "However we won't see the labels of dataset during our core part of unsupervised machine learning part of our project."
   ]
  },
  {
   "cell_type": "code",
   "execution_count": 3,
   "metadata": {},
   "outputs": [
    {
     "data": {
      "text/plain": [
       "Index(['Time', 'V1', 'V2', 'V3', 'V4', 'V5', 'V6', 'V7', 'V8', 'V9', 'V10',\n",
       "       'V11', 'V12', 'V13', 'V14', 'V15', 'V16', 'V17', 'V18', 'V19', 'V20',\n",
       "       'V21', 'V22', 'V23', 'V24', 'V25', 'V26', 'V27', 'V28', 'Amount',\n",
       "       'Class'],\n",
       "      dtype='object')"
      ]
     },
     "execution_count": 3,
     "metadata": {},
     "output_type": "execute_result"
    }
   ],
   "source": [
    "df.columns #Checking columns"
   ]
  },
  {
   "cell_type": "code",
   "execution_count": 3,
   "metadata": {
    "collapsed": true
   },
   "outputs": [
    {
     "data": {
      "text/plain": [
       "Time      0\n",
       "V1        0\n",
       "V2        0\n",
       "V3        0\n",
       "V4        0\n",
       "V5        0\n",
       "V6        0\n",
       "V7        0\n",
       "V8        0\n",
       "V9        0\n",
       "V10       0\n",
       "V11       0\n",
       "V12       0\n",
       "V13       0\n",
       "V14       0\n",
       "V15       0\n",
       "V16       0\n",
       "V17       0\n",
       "V18       0\n",
       "V19       0\n",
       "V20       0\n",
       "V21       0\n",
       "V22       0\n",
       "V23       0\n",
       "V24       0\n",
       "V25       0\n",
       "V26       0\n",
       "V27       0\n",
       "V28       0\n",
       "Amount    0\n",
       "Class     0\n",
       "dtype: int64"
      ]
     },
     "execution_count": 3,
     "metadata": {},
     "output_type": "execute_result"
    }
   ],
   "source": [
    "# Data was clean, no need to do any cleaning\n",
    "df.isna().sum()"
   ]
  },
  {
   "cell_type": "code",
   "execution_count": 5,
   "metadata": {
    "scrolled": true
   },
   "outputs": [
    {
     "name": "stdout",
     "output_type": "stream",
     "text": [
      "0    284315\n",
      "1       492\n",
      "Name: Class, dtype: int64\n"
     ]
    },
    {
     "data": {
      "image/png": "[encoded data removed]",
      "text/plain": [
       "<Figure size 432x288 with 1 Axes>"
      ]
     },
     "metadata": {
      "needs_background": "light"
     },
     "output_type": "display_data"
    }
   ],
   "source": [
    "# Highly imbalanced data\n",
    "print(df.Class.value_counts())  #Fradulent transactions are only .17% of the total dataset.\n",
    "\n",
    "sns.countplot('Class', data=df)\n",
    "plt.title('Class Distributions \\n (0: Non-fraudulent / 1: Fraudulent)', fontsize=13)\n",
    "\n",
    "plt.savefig('Class Distribution.png')"
   ]
  },
  {
   "cell_type": "code",
   "execution_count": 4,
   "metadata": {},
   "outputs": [
    {
     "data": {
      "image/png": "[encoded data removed]",
      "text/plain": [
       "<Figure size 864x432 with 2 Axes>"
      ]
     },
     "metadata": {
      "needs_background": "light"
     },
     "output_type": "display_data"
    }
   ],
   "source": [
    "# To see the distribution of \n",
    "df.describe()\n",
    "\n",
    "plt.figure(figsize=(12,6))\n",
    "plt.subplot(1,2,1)\n",
    "sns.distplot(df.Amount.values,color='green')\n",
    "plt.xlim([0,15000])\n",
    "plt.title('Distribution of transactions per amount')\n",
    "plt.subplot(1,2,2)\n",
    "sns.distplot(df.Time.values,color='blue')\n",
    "plt.subplots_adjust(hspace=2,top=0.8)\n",
    "plt.title('Distribution of transactions over time(in seconds)')\n",
    "plt.show()"
   ]
  },
  {
   "cell_type": "code",
   "execution_count": 8,
   "metadata": {},
   "outputs": [
    {
     "data": {
      "image/png": "[encoded data removed]",
      "text/plain": [
       "<Figure size 432x288 with 1 Axes>"
      ]
     },
     "metadata": {
      "needs_background": "light"
     },
     "output_type": "display_data"
    }
   ],
   "source": [
    "# Distribution of normal and fruadulent transactions over time in 2 days.(In seconds)\n",
    "nonfraudtime = df[df['Class']==0]['Time']\n",
    "fraudtime = df[df['Class']==1]['Time']\n",
    "\n",
    "plt.figure()\n",
    "sns.set_color_codes('pastel')\n",
    "sns.distplot(nonfraudtime,bins=10,label='normal')\n",
    "sns.distplot(fraudtime,bins=10,label='fraud')\n",
    "plt.title('Transactions over time')\n",
    "plt.legend()\n",
    "plt.show()"
   ]
  },
  {
   "cell_type": "markdown",
   "metadata": {},
   "source": [
    "We were informed that the data is scaled and PCA'ed for the protection of personal information. Naturally I'm assuming that Scaling has been done because PCA should be implemented after normalizing.\n",
    "\n",
    "However we can see that Time and the Amount is not scaled."
   ]
  },
  {
   "cell_type": "code",
   "execution_count": 87,
   "metadata": {},
   "outputs": [],
   "source": [
    "# Converting Time feature which is in seconds to hours\n",
    "timedelta = pd.to_timedelta(df['Time'], unit='s')\n",
    "df['Time_hour'] = (timedelta.dt.components.hours).astype(int)"
   ]
  },
  {
   "cell_type": "code",
   "execution_count": 7,
   "metadata": {},
   "outputs": [
    {
     "data": {
      "image/png": "[encoded data removed]",
      "text/plain": [
       "<Figure size 864x360 with 1 Axes>"
      ]
     },
     "metadata": {
      "needs_background": "light"
     },
     "output_type": "display_data"
    }
   ],
   "source": [
    "#Exploring the distribuition by Class types throught hours and minutes\n",
    "plt.figure(figsize=(12,5))\n",
    "sns.distplot(df[df['Class'] == 0][\"Time_hour\"], \n",
    "             color='green')\n",
    "sns.distplot(df[df['Class'] == 1][\"Time_hour\"], \n",
    "             color='red')\n",
    "plt.title('Fraud x Normal Transactions by Hours', fontsize=17)\n",
    "plt.xlim([0,24])\n",
    "plt.show()"
   ]
  },
  {
   "cell_type": "markdown",
   "metadata": {},
   "source": [
    "# Feature Engineering for Unsupervised learning"
   ]
  },
  {
   "cell_type": "markdown",
   "metadata": {},
   "source": [
    "Suspicious Amount"
   ]
  },
  {
   "cell_type": "code",
   "execution_count": 85,
   "metadata": {},
   "outputs": [],
   "source": [
    "#First assumption I made for suspicious amount is that normally due to various reasons including sales tax and such, transaction amount is rarely rounded numbers.\n",
    "#Setting range of suspicious amount which are rounded numbers\n",
    "suspiciousamounts = range(0,25700,1)\n",
    "\n",
    "# Make a series that have boolean whether they are rounded amount or not\n",
    "sus_amount=df['Amount'].isin(suspiciousamounts)\n",
    "# Create new column 'suspicious_amount' and make it binary 0 and 1\n",
    "df['suspicious_amount']=np.where(sus_amount==False,0,1)"
   ]
  },
  {
   "cell_type": "markdown",
   "metadata": {},
   "source": [
    "Off-Peak Hours"
   ]
  },
  {
   "cell_type": "code",
   "execution_count": 88,
   "metadata": {},
   "outputs": [],
   "source": [
    "# Second assumption I made is that credit card transactions normally happen from 7am to midnight or 1am. Transactions that happen during late night from 1am to 6am is probably a bit suspicious.\n",
    "# Setting a range of off-peak(suspicious) timelines which is from 1 am to 6am\n",
    "off_range = range(1,6)\n",
    "\n",
    "# Boolean series whether the transaction belongs to suspicious timelines\n",
    "offpeak_hours = df['Time_hour'].isin(off_range)\n",
    "\n",
    "# Create a new column 'suspicious_hours' and it will store binary features\n",
    "df['suspicious_hours'] = np.where(offpeak_hours==False,0,1)"
   ]
  },
  {
   "cell_type": "markdown",
   "metadata": {},
   "source": [
    "Scaling and dropping unnecessary features."
   ]
  },
  {
   "cell_type": "code",
   "execution_count": 89,
   "metadata": {
    "scrolled": true
   },
   "outputs": [
    {
     "data": {
      "text/html": [
       "<div>\n",
       "<style scoped>\n",
       "    .dataframe tbody tr th:only-of-type {\n",
       "        vertical-align: middle;\n",
       "    }\n",
       "\n",
       "    .dataframe tbody tr th {\n",
       "        vertical-align: top;\n",
       "    }\n",
       "\n",
       "    .dataframe thead th {\n",
       "        text-align: right;\n",
       "    }\n",
       "</style>\n",
       "<table border=\"1\" class=\"dataframe\">\n",
       "  <thead>\n",
       "    <tr style=\"text-align: right;\">\n",
       "      <th></th>\n",
       "      <th>V1</th>\n",
       "      <th>V2</th>\n",
       "      <th>V3</th>\n",
       "      <th>V4</th>\n",
       "      <th>V5</th>\n",
       "      <th>V6</th>\n",
       "      <th>V7</th>\n",
       "      <th>V8</th>\n",
       "      <th>V9</th>\n",
       "      <th>V10</th>\n",
       "      <th>...</th>\n",
       "      <th>V23</th>\n",
       "      <th>V24</th>\n",
       "      <th>V25</th>\n",
       "      <th>V26</th>\n",
       "      <th>V27</th>\n",
       "      <th>V28</th>\n",
       "      <th>Class</th>\n",
       "      <th>suspicious_amount</th>\n",
       "      <th>suspicious_hours</th>\n",
       "      <th>amount_scaled</th>\n",
       "    </tr>\n",
       "  </thead>\n",
       "  <tbody>\n",
       "    <tr>\n",
       "      <th>0</th>\n",
       "      <td>-1.359807</td>\n",
       "      <td>-0.072781</td>\n",
       "      <td>2.536347</td>\n",
       "      <td>1.378155</td>\n",
       "      <td>-0.338321</td>\n",
       "      <td>0.462388</td>\n",
       "      <td>0.239599</td>\n",
       "      <td>0.098698</td>\n",
       "      <td>0.363787</td>\n",
       "      <td>0.090794</td>\n",
       "      <td>...</td>\n",
       "      <td>-0.110474</td>\n",
       "      <td>0.066928</td>\n",
       "      <td>0.128539</td>\n",
       "      <td>-0.189115</td>\n",
       "      <td>0.133558</td>\n",
       "      <td>-0.021053</td>\n",
       "      <td>0</td>\n",
       "      <td>0</td>\n",
       "      <td>0</td>\n",
       "      <td>1.783274</td>\n",
       "    </tr>\n",
       "    <tr>\n",
       "      <th>1</th>\n",
       "      <td>1.191857</td>\n",
       "      <td>0.266151</td>\n",
       "      <td>0.166480</td>\n",
       "      <td>0.448154</td>\n",
       "      <td>0.060018</td>\n",
       "      <td>-0.082361</td>\n",
       "      <td>-0.078803</td>\n",
       "      <td>0.085102</td>\n",
       "      <td>-0.255425</td>\n",
       "      <td>-0.166974</td>\n",
       "      <td>...</td>\n",
       "      <td>0.101288</td>\n",
       "      <td>-0.339846</td>\n",
       "      <td>0.167170</td>\n",
       "      <td>0.125895</td>\n",
       "      <td>-0.008983</td>\n",
       "      <td>0.014724</td>\n",
       "      <td>0</td>\n",
       "      <td>0</td>\n",
       "      <td>0</td>\n",
       "      <td>-0.269825</td>\n",
       "    </tr>\n",
       "    <tr>\n",
       "      <th>2</th>\n",
       "      <td>-1.358354</td>\n",
       "      <td>-1.340163</td>\n",
       "      <td>1.773209</td>\n",
       "      <td>0.379780</td>\n",
       "      <td>-0.503198</td>\n",
       "      <td>1.800499</td>\n",
       "      <td>0.791461</td>\n",
       "      <td>0.247676</td>\n",
       "      <td>-1.514654</td>\n",
       "      <td>0.207643</td>\n",
       "      <td>...</td>\n",
       "      <td>0.909412</td>\n",
       "      <td>-0.689281</td>\n",
       "      <td>-0.327642</td>\n",
       "      <td>-0.139097</td>\n",
       "      <td>-0.055353</td>\n",
       "      <td>-0.059752</td>\n",
       "      <td>0</td>\n",
       "      <td>0</td>\n",
       "      <td>0</td>\n",
       "      <td>4.983721</td>\n",
       "    </tr>\n",
       "    <tr>\n",
       "      <th>3</th>\n",
       "      <td>-0.966272</td>\n",
       "      <td>-0.185226</td>\n",
       "      <td>1.792993</td>\n",
       "      <td>-0.863291</td>\n",
       "      <td>-0.010309</td>\n",
       "      <td>1.247203</td>\n",
       "      <td>0.237609</td>\n",
       "      <td>0.377436</td>\n",
       "      <td>-1.387024</td>\n",
       "      <td>-0.054952</td>\n",
       "      <td>...</td>\n",
       "      <td>-0.190321</td>\n",
       "      <td>-1.175575</td>\n",
       "      <td>0.647376</td>\n",
       "      <td>-0.221929</td>\n",
       "      <td>0.062723</td>\n",
       "      <td>0.061458</td>\n",
       "      <td>0</td>\n",
       "      <td>0</td>\n",
       "      <td>0</td>\n",
       "      <td>1.418291</td>\n",
       "    </tr>\n",
       "    <tr>\n",
       "      <th>4</th>\n",
       "      <td>-1.158233</td>\n",
       "      <td>0.877737</td>\n",
       "      <td>1.548718</td>\n",
       "      <td>0.403034</td>\n",
       "      <td>-0.407193</td>\n",
       "      <td>0.095921</td>\n",
       "      <td>0.592941</td>\n",
       "      <td>-0.270533</td>\n",
       "      <td>0.817739</td>\n",
       "      <td>0.753074</td>\n",
       "      <td>...</td>\n",
       "      <td>-0.137458</td>\n",
       "      <td>0.141267</td>\n",
       "      <td>-0.206010</td>\n",
       "      <td>0.502292</td>\n",
       "      <td>0.219422</td>\n",
       "      <td>0.215153</td>\n",
       "      <td>0</td>\n",
       "      <td>0</td>\n",
       "      <td>0</td>\n",
       "      <td>0.670579</td>\n",
       "    </tr>\n",
       "  </tbody>\n",
       "</table>\n",
       "<p>5 rows × 32 columns</p>\n",
       "</div>"
      ],
      "text/plain": [
       "         V1        V2        V3        V4        V5        V6        V7  \\\n",
       "0 -1.359807 -0.072781  2.536347  1.378155 -0.338321  0.462388  0.239599   \n",
       "1  1.191857  0.266151  0.166480  0.448154  0.060018 -0.082361 -0.078803   \n",
       "2 -1.358354 -1.340163  1.773209  0.379780 -0.503198  1.800499  0.791461   \n",
       "3 -0.966272 -0.185226  1.792993 -0.863291 -0.010309  1.247203  0.237609   \n",
       "4 -1.158233  0.877737  1.548718  0.403034 -0.407193  0.095921  0.592941   \n",
       "\n",
       "         V8        V9       V10  ...       V23       V24       V25       V26  \\\n",
       "0  0.098698  0.363787  0.090794  ... -0.110474  0.066928  0.128539 -0.189115   \n",
       "1  0.085102 -0.255425 -0.166974  ...  0.101288 -0.339846  0.167170  0.125895   \n",
       "2  0.247676 -1.514654  0.207643  ...  0.909412 -0.689281 -0.327642 -0.139097   \n",
       "3  0.377436 -1.387024 -0.054952  ... -0.190321 -1.175575  0.647376 -0.221929   \n",
       "4 -0.270533  0.817739  0.753074  ... -0.137458  0.141267 -0.206010  0.502292   \n",
       "\n",
       "        V27       V28  Class  suspicious_amount  suspicious_hours  \\\n",
       "0  0.133558 -0.021053      0                  0                 0   \n",
       "1 -0.008983  0.014724      0                  0                 0   \n",
       "2 -0.055353 -0.059752      0                  0                 0   \n",
       "3  0.062723  0.061458      0                  0                 0   \n",
       "4  0.219422  0.215153      0                  0                 0   \n",
       "\n",
       "   amount_scaled  \n",
       "0       1.783274  \n",
       "1      -0.269825  \n",
       "2       4.983721  \n",
       "3       1.418291  \n",
       "4       0.670579  \n",
       "\n",
       "[5 rows x 32 columns]"
      ]
     },
     "execution_count": 89,
     "metadata": {},
     "output_type": "execute_result"
    }
   ],
   "source": [
    "#Scaling\n",
    "rscaler = RobustScaler() #Seeing that amount and time is unevenly distributed, we can try robust scaler since it's less vulnerable to outliers\n",
    "\n",
    "# Replacing existing columns\n",
    "df['amount_scaled'] = rscaler.fit_transform(df['Amount'].values.reshape(-1,1))\n",
    "\n",
    "# Drop unnecessary features including 'Time'\n",
    "df.drop(columns=['Time','Amount','Time_hour'],inplace=True)\n",
    "df.head()"
   ]
  },
  {
   "cell_type": "markdown",
   "metadata": {},
   "source": [
    "Visualization before applying unsupervised learning to see what we are dealing with.\n",
    "\n",
    "t-Distributed Stochastic Neighbor Embedding (t-SNE) is a non-linear technique primarily used for data exploration and visualizing high-dimensional data. In simpler terms, t-SNE gives you how the data is arranged in a high-dimensional space.\n",
    "(The t-SNE algorithm calculates a similarity measure between pairs of instances in the high dimensional space and in the low dimensional space. It then tries to optimize these two similarity measures using a cost function.)"
   ]
  },
  {
   "cell_type": "code",
   "execution_count": 11,
   "metadata": {},
   "outputs": [
    {
     "data": {
      "image/png": "[encoded data removed]",
      "text/plain": [
       "<Figure size 720x432 with 2 Axes>"
      ]
     },
     "metadata": {
      "needs_background": "light"
     },
     "output_type": "display_data"
    }
   ],
   "source": [
    "# Visualization with the original dataset(Without Feature engineering)\n",
    "df_plt=df_origin[df_origin['Class']==0].sample(2000) # 2000 sample 'Normal' datapoints \n",
    "df_plt_pos=df_origin[df_origin['Class']==1].sample(40) #40 sample 'Fraud' datapoints \n",
    "df_plt=pd.concat([df_plt,df_plt_pos]) #Concat normal and fraud datapoints\n",
    "y_plt=df_plt['Class'] # Separate 'Class' feature\n",
    "X_plt=df_plt.drop('Class',1) # Dataset without 'Class' feature\n",
    "\n",
    "# T-SNE it with 2 components so it can be visualized \n",
    "X_embedded = TSNE(n_components=2).fit_transform(X_plt)\n",
    "\n",
    "# Plotting\n",
    "plt.figure(figsize=(10,6))\n",
    "plt.scatter(X_embedded[:,0], X_embedded[:,1], c=y_plt,cmap=plt.cm.get_cmap(\"Paired\", 2))\n",
    "plt.colorbar(ticks=range(2))\n",
    "plt.title('Visualization with original dataset')\n",
    "plt.savefig('Tsne.jpeg')\n",
    "plt.show()"
   ]
  },
  {
   "cell_type": "markdown",
   "metadata": {},
   "source": [
    "What we see above are normal and fraudulent transactions. We can see that both type of transactions are very alike and hard to separate it using distance or density based clustering. It is premature to say but unsupervised ML methods with distance base approach might not be so effective because fraudulent transactions are not too far away from the normal transactions.\n",
    "\n",
    "It is possible we can't do much meaningful clustering to detect anomalies(Fraudulent transactions) with the original dataset judging from the visualization above. \n",
    "\n",
    "Let's do another visualization with dataset('df') which has extra infomation(suspicious_amount and suspicious_hours) we have added with feature engineering. "
   ]
  },
  {
   "cell_type": "code",
   "execution_count": 13,
   "metadata": {},
   "outputs": [
    {
     "data": {
      "image/png": "[encoded data removed]",
      "text/plain": [
       "<Figure size 720x432 with 2 Axes>"
      ]
     },
     "metadata": {
      "needs_background": "light"
     },
     "output_type": "display_data"
    }
   ],
   "source": [
    "# Visualization with dataset that feature engineered 'suspicious_amount and suspicious_hours' feature\n",
    "df_plt=df[df['Class']==0].sample(2000) \n",
    "df_plt_pos=df[df['Class']==1].sample(40)\n",
    "df_plt=pd.concat([df_plt,df_plt_pos])\n",
    "y_plt=df_plt['Class']\n",
    "X_plt=df_plt.drop('Class',1)\n",
    "\n",
    "# T-SNE\n",
    "X_embedded = TSNE(n_components=2).fit_transform(X_plt)\n",
    "# Plotting\n",
    "plt.figure(figsize=(10,6))\n",
    "plt.scatter(X_embedded[:,0], X_embedded[:,1], c=y_plt, cmap=plt.cm.get_cmap(\"Paired\", 2))\n",
    "plt.colorbar(ticks=range(2))\n",
    "plt.title('Visualization with feature engineered dataset')\n",
    "plt.savefig('Tsne2.jpeg')\n",
    "plt.show()"
   ]
  },
  {
   "cell_type": "markdown",
   "metadata": {},
   "source": [
    "We can see that adding informations through feature enginnering opens up a possibility to do separation through unsupervised machine learning.\n",
    "\n",
    "Due to the limit of dataset we have(features have been anonymized), I could only add 2 informative features but with real dataset where we have critical informations about the transactions, we would have been able to add more features to make more effective unsupervised ML.\n",
    "\n",
    "Now let's do some machine learning."
   ]
  },
  {
   "cell_type": "markdown",
   "metadata": {},
   "source": [
    " # Unsupervised Learning Methods"
   ]
  },
  {
   "cell_type": "markdown",
   "metadata": {},
   "source": [
    "There are various types of unsupervised learning method we could apply. Here are the list of the models I have tried. I will briefly introduce each methods. \n",
    "\n",
    "\n",
    "# Probability Based\n",
    "- Angle Based Outlier Detector. ABOD assumes that the `variance of angles between pairs of the remaining datapoints is small if the datapoint is the outlier`. It is supposed to fight the limit of proximity based approach with curse of dimensionality. \n",
    "<br>\n",
    "\n",
    "- Stochastic Outlier Selection (SOS). Unfortunately we found that this one is not working with our dataset. It bugs out.\n",
    "\n",
    "# Proximity Based\n",
    "\n",
    "- Local Outlier Factor. The LOF is a calculation that `looks at the neighbors of a certain point to find out its density` and compare this to the density of other points. __If the density of a point is much smaller than the densities of its neighbors, the point is far from dense areas_ hence, an outlier.__\n",
    "\n",
    "<br> \n",
    "\n",
    "- Clustering-Based Local Outlier Factor(CBLOF). It __classifies the data into small clusters and large clusters__. The `anomaly score is then calculated based on the size of the cluster the point belongs to, as well as the distance to the nearest large cluster`.\n",
    "\n",
    "<br>\n",
    "\n",
    "- Local Correlation Integral (LOCI). Same with SOS, it bugs out and shut down the kernel.\n",
    "\n",
    "<br>\n",
    "\n",
    "- K Nearest Neighbors(KNN). KNN is normally used as a supervised learning method but for any data point, the `distance to its kth nearest neighbor could be viewed as the outlying score`.\n",
    "\n",
    "<br>\n",
    "\n",
    "- HBOS. Histogram Based Outlier Score assumes the feature independence and calculates the degree of anomalies by building histograms. The basic idea is, that for each feature of the dataset, a histogram is created. Then, for each instance in the dataset, the inverse height of the bins it resides (representing the density estimation) of all features are multiplied.\n",
    "\n",
    "<br>\n",
    "\n",
    "- Isolation Forest(IF). It uses random forest-like approach where it does recursive partitioning of its features. Basic assumption is that the anomalies will be outstanding and easily separable. Isolation Forest will choose random features to make trees and start separating instances. Shorter it takes to be separated, higher chances of it being anomaly.\n",
    "\n",
    "\n",
    "# Semi Supervied Learning\n",
    "- One Class Support Vector Machine. One-class SVMs tries to separate the origin from the data instances in the kernel space, in other words it finds a small region where most of the data lies and label data points in this region as one class. One-class SVM is trained only on anomaly-free data and later, the SVM classifies anomalies and normal data in the test set.\n",
    "\n",
    "- Autoencoder [Neural Network] "
   ]
  },
  {
   "cell_type": "code",
   "execution_count": 14,
   "metadata": {},
   "outputs": [],
   "source": [
    "# Removing 'Class' from dataset so we can work without labels and do unsupervised learning\n",
    "X = df.drop('Class',axis=1)\n",
    "y = df['Class']"
   ]
  },
  {
   "cell_type": "markdown",
   "metadata": {},
   "source": [
    "Note before applying unsupervised outlier detection models\n",
    "- Contamination is a parameter you set for the fraction of datapoints your model will assign as an outlier. `The default value is at 0.1 but considering the fact that portion of credit card fraud was by average 0.1% I will set it as 0.01 for this project`.\n",
    "- Other than Contamination parameter, we will try to keep other parameters as default as possible for this project so we can be fair between models we try."
   ]
  },
  {
   "cell_type": "markdown",
   "metadata": {},
   "source": [
    "# Angle-based Outlier Detector (ABOD)"
   ]
  },
  {
   "cell_type": "code",
   "execution_count": 19,
   "metadata": {},
   "outputs": [
    {
     "name": "stdout",
     "output_type": "stream",
     "text": [
      "CPU times: user 15min 16s, sys: 4.45 s, total: 15min 21s\n",
      "Wall time: 21min 8s\n"
     ]
    },
    {
     "data": {
      "text/plain": [
       "ABOD(contamination=0.01, method='fast', n_neighbors=5)"
      ]
     },
     "execution_count": 19,
     "metadata": {},
     "output_type": "execute_result"
    }
   ],
   "source": [
    "%%time\n",
    "from pyod.models.abod import ABOD #Import model\n",
    "\n",
    "#Using 'fast' parameter to reduce computation time, n_neighbors will be 5 as it is the default setting. We will try to keep the hyperparameters as default as much as possible to compare the performance and to honour the meaning of unsupervised learning. Basically it will only check the 5 nearest datapoints for the variance of angles. Reason why we will keep the contamination at 0.01 is because the default setting is 0.1 which is 10% of the dataset will be flagged as outlier which is too high considering the fact that about 0.1% of credit card transactions were found to be fraudulent.\n",
    "FABOD = ABOD(method='fast',contamination=0.01,n_neighbors=5) \n",
    "\n",
    "FABOD.fit(X,y=None)"
   ]
  },
  {
   "cell_type": "code",
   "execution_count": 20,
   "metadata": {},
   "outputs": [
    {
     "name": "stdout",
     "output_type": "stream",
     "text": [
      "CPU times: user 16min 41s, sys: 3.9 s, total: 16min 45s\n",
      "Wall time: 16min 50s\n"
     ]
    }
   ],
   "source": [
    "%%time\n",
    "FABOD_predict = FABOD.predict(X)"
   ]
  },
  {
   "cell_type": "code",
   "execution_count": 26,
   "metadata": {},
   "outputs": [
    {
     "data": {
      "text/plain": [
       "(array([0]), array([284807]))"
      ]
     },
     "execution_count": 26,
     "metadata": {},
     "output_type": "execute_result"
    }
   ],
   "source": [
    "# Checking the distribution of normal vs outliers\n",
    "np.unique(FABOD_predict,return_counts=True) \n",
    "\n",
    "# It is clearly not working well with our dataset probably because I used 'fast' and only counted 5 nearest datapoints. I imagine it will be effective with 'old' behaviour which counts all the remaining pairs which will be computationally very heavy. We will not pursue down that road."
   ]
  },
  {
   "cell_type": "code",
   "execution_count": 25,
   "metadata": {},
   "outputs": [
    {
     "data": {
      "text/plain": [
       "['FABOD.pkl']"
      ]
     },
     "execution_count": 25,
     "metadata": {},
     "output_type": "execute_result"
    }
   ],
   "source": [
    "# Backup \n",
    "X_backup = df.iloc[:,-4:].copy() #Making copy dataset for saving ML results\n",
    "joblib.dump(FABOD, 'FABOD.pkl')  # Dumping model\n",
    "X_backup['FABOD_predict']=FABOD_predict"
   ]
  },
  {
   "cell_type": "markdown",
   "metadata": {},
   "source": [
    "# Local Outlier Factor (LOF)"
   ]
  },
  {
   "cell_type": "code",
   "execution_count": 27,
   "metadata": {},
   "outputs": [],
   "source": [
    "from pyod.models.lof import LocalOutlierFactor\n",
    "lof = LocalOutlierFactor(n_jobs=-1,contamination=0.01)"
   ]
  },
  {
   "cell_type": "code",
   "execution_count": 28,
   "metadata": {},
   "outputs": [
    {
     "name": "stdout",
     "output_type": "stream",
     "text": [
      "CPU times: user 30min 6s, sys: 8.13 s, total: 30min 14s\n",
      "Wall time: 9min 25s\n"
     ]
    },
    {
     "data": {
      "text/plain": [
       "LocalOutlierFactor(algorithm='auto', contamination=0.01, leaf_size=30,\n",
       "                   metric='minkowski', metric_params=None, n_jobs=-1,\n",
       "                   n_neighbors=20, novelty=False, p=2)"
      ]
     },
     "execution_count": 28,
     "metadata": {},
     "output_type": "execute_result"
    }
   ],
   "source": [
    "%%time\n",
    "lof.fit(X)  #Fitting"
   ]
  },
  {
   "cell_type": "code",
   "execution_count": 29,
   "metadata": {},
   "outputs": [
    {
     "name": "stdout",
     "output_type": "stream",
     "text": [
      "CPU times: user 30min 2s, sys: 8.14 s, total: 30min 10s\n",
      "Wall time: 9min 12s\n"
     ]
    }
   ],
   "source": [
    "%%time\n",
    "lof_predict = lof.fit_predict(X) # Prediction"
   ]
  },
  {
   "cell_type": "code",
   "execution_count": 32,
   "metadata": {},
   "outputs": [
    {
     "data": {
      "text/plain": [
       "(array([-1,  1]), array([  2849, 281958]))"
      ]
     },
     "execution_count": 32,
     "metadata": {},
     "output_type": "execute_result"
    }
   ],
   "source": [
    "np.unique(lof_predict,return_counts=1) #Checking Distribution"
   ]
  },
  {
   "cell_type": "code",
   "execution_count": 33,
   "metadata": {},
   "outputs": [],
   "source": [
    "# Convert the format of prediction values so that flagged datapoint is 1 and normal datas are 0.\n",
    "lof_predict[lof_predict == 1] = 0\n",
    "lof_predict[lof_predict == -1] = 1"
   ]
  },
  {
   "cell_type": "code",
   "execution_count": 54,
   "metadata": {
    "scrolled": true
   },
   "outputs": [
    {
     "name": "stdout",
     "output_type": "stream",
     "text": [
      "Local Outlier Factor: 3335\n",
      "Accuracy Score :\n",
      "0.9882903158981345\n",
      "Classification Report :\n",
      "              precision    recall  f1-score   support\n",
      "\n",
      "           0       1.00      0.99      0.99    284315\n",
      "           1       0.00      0.01      0.00       492\n",
      "\n",
      "    accuracy                           0.99    284807\n",
      "   macro avg       0.50      0.50      0.50    284807\n",
      "weighted avg       1.00      0.99      0.99    284807\n",
      "\n"
     ]
    }
   ],
   "source": [
    "n_errors = (lof_predict != y).sum() #This is to show how many errors it has made predicting \n",
    "print(f'Local Outlier Factor: {n_errors}')\n",
    "\n",
    "print(\"Accuracy Score :\")\n",
    "print(accuracy_score(y,lof_predict)) #Accuracy score of model, however the dataset is very imbalanced it will alawys print very high accuracy hence not a reliable metric to evaluate models.\n",
    "print(\"Classification Report :\")\n",
    "print(classification_report(y,lof_predict)) "
   ]
  },
  {
   "cell_type": "code",
   "execution_count": 31,
   "metadata": {},
   "outputs": [
    {
     "data": {
      "text/plain": [
       "array([-1.08919753, -1.06399059, -1.1600584 , ..., -1.49123234,\n",
       "       -1.0205531 , -1.0658683 ])"
      ]
     },
     "execution_count": 31,
     "metadata": {},
     "output_type": "execute_result"
    }
   ],
   "source": [
    "lof_score=lof.negative_outlier_factor_  #The outlier scores of the training data."
   ]
  },
  {
   "cell_type": "code",
   "execution_count": 38,
   "metadata": {},
   "outputs": [
    {
     "name": "stdout",
     "output_type": "stream",
     "text": [
      "LOF ROC:0.4944, precision @ rank n:0.0\n"
     ]
    }
   ],
   "source": [
    "evaluate_print('LOF',y,lof_score) #It prints the AUC score. It's below 0.5 which is not at all promising model for the dataset we use. "
   ]
  },
  {
   "cell_type": "markdown",
   "metadata": {},
   "source": [
    "# Clustering Based Local Outlier Factor (CBLOF)"
   ]
  },
  {
   "cell_type": "code",
   "execution_count": 133,
   "metadata": {},
   "outputs": [],
   "source": [
    "from pyod.models.cblof import CBLOF\n",
    "cblof = CBLOF(contamination=0.01,n_jobs=-1)"
   ]
  },
  {
   "cell_type": "code",
   "execution_count": 160,
   "metadata": {},
   "outputs": [
    {
     "name": "stdout",
     "output_type": "stream",
     "text": [
      "CPU times: user 561 ms, sys: 205 ms, total: 766 ms\n",
      "Wall time: 11.3 s\n"
     ]
    },
    {
     "data": {
      "text/plain": [
       "CBLOF(alpha=0.9, beta=5, check_estimator=False, clustering_estimator=None,\n",
       "   contamination=0.01, n_clusters=8, n_jobs=-1, random_state=None,\n",
       "   use_weights=False)"
      ]
     },
     "execution_count": 160,
     "metadata": {},
     "output_type": "execute_result"
    }
   ],
   "source": [
    "%%time\n",
    "cblof.fit(X) #Fitting"
   ]
  },
  {
   "cell_type": "code",
   "execution_count": 161,
   "metadata": {},
   "outputs": [
    {
     "name": "stdout",
     "output_type": "stream",
     "text": [
      "CPU times: user 417 ms, sys: 33.7 ms, total: 451 ms\n",
      "Wall time: 259 ms\n"
     ]
    }
   ],
   "source": [
    "%%time\n",
    "cblof_predict= cblof.predict(X) #Predicting"
   ]
  },
  {
   "cell_type": "code",
   "execution_count": 162,
   "metadata": {},
   "outputs": [],
   "source": [
    "cblof_proba = cblof.predict_proba(X)[:,1] #Probability of datapoints being normal and outlier\n",
    "cblof_score = cblof.decision_scores_ #The outlier scores of the training data. High score means more likely to be an outlier."
   ]
  },
  {
   "cell_type": "code",
   "execution_count": 163,
   "metadata": {},
   "outputs": [
    {
     "data": {
      "text/plain": [
       "(array([0, 1]), array([281958,   2849]))"
      ]
     },
     "execution_count": 163,
     "metadata": {},
     "output_type": "execute_result"
    }
   ],
   "source": [
    "np.unique(cblof_predict,return_counts=True) #Distribution"
   ]
  },
  {
   "cell_type": "code",
   "execution_count": 164,
   "metadata": {
    "scrolled": true
   },
   "outputs": [
    {
     "name": "stdout",
     "output_type": "stream",
     "text": [
      "Local Outlier Factor: 2721\n",
      "Accuracy Score :\n",
      "0.9904461617867538\n",
      "Classification Report :\n",
      "              precision    recall  f1-score   support\n",
      "\n",
      "           0       1.00      0.99      1.00    284315\n",
      "           1       0.11      0.63      0.19       492\n",
      "\n",
      "    accuracy                           0.99    284807\n",
      "   macro avg       0.55      0.81      0.59    284807\n",
      "weighted avg       1.00      0.99      0.99    284807\n",
      "\n"
     ]
    }
   ],
   "source": [
    "n_errors = (cblof_predict != y).sum() #Number of errors it has made predicting.\n",
    "print(f'Local Outlier Factor: {n_errors}')\n",
    "\n",
    "print(\"Accuracy Score :\")\n",
    "print(accuracy_score(y,cblof_predict))\n",
    "print(\"Classification Report :\") #Classification Report\n",
    "print(classification_report(y,cblof_predict))"
   ]
  },
  {
   "cell_type": "markdown",
   "metadata": {},
   "source": [
    "# Local Correlation Integral (LOCI).  Bugged out"
   ]
  },
  {
   "cell_type": "markdown",
   "metadata": {},
   "source": [
    "# k-Nearest Neighbors Detector (KNN)"
   ]
  },
  {
   "cell_type": "code",
   "execution_count": 50,
   "metadata": {},
   "outputs": [],
   "source": [
    "from pyod.models.knn import KNN\n",
    "knn = KNN(contamination=0.01,n_jobs=-1)"
   ]
  },
  {
   "cell_type": "code",
   "execution_count": 51,
   "metadata": {},
   "outputs": [
    {
     "name": "stdout",
     "output_type": "stream",
     "text": [
      "CPU times: user 18min 20s, sys: 4.74 s, total: 18min 25s\n",
      "Wall time: 5min 30s\n"
     ]
    },
    {
     "data": {
      "text/plain": [
       "KNN(algorithm='auto', contamination=0.01, leaf_size=30, method='largest',\n",
       "  metric='minkowski', metric_params=None, n_jobs=-1, n_neighbors=5, p=2,\n",
       "  radius=1.0)"
      ]
     },
     "execution_count": 51,
     "metadata": {},
     "output_type": "execute_result"
    }
   ],
   "source": [
    "%%time\n",
    "knn.fit(X,y=None) #Fitting"
   ]
  },
  {
   "cell_type": "code",
   "execution_count": 52,
   "metadata": {},
   "outputs": [
    {
     "name": "stdout",
     "output_type": "stream",
     "text": [
      "CPU times: user 1h 37min 30s, sys: 42.2 s, total: 1h 38min 12s\n",
      "Wall time: 1h 40min 17s\n"
     ]
    }
   ],
   "source": [
    "%%time\n",
    "knn_predict = knn.predict(X) #Prediction"
   ]
  },
  {
   "cell_type": "code",
   "execution_count": 39,
   "metadata": {},
   "outputs": [
    {
     "data": {
      "text/plain": [
       "(array([0, 1]), array([282286,   2521]))"
      ]
     },
     "execution_count": 39,
     "metadata": {},
     "output_type": "execute_result"
    }
   ],
   "source": [
    "np.unique(knn_predict,return_counts=True) # Distribution"
   ]
  },
  {
   "cell_type": "code",
   "execution_count": 53,
   "metadata": {},
   "outputs": [
    {
     "name": "stdout",
     "output_type": "stream",
     "text": [
      "CPU times: user 1h 38min 51s, sys: 45.6 s, total: 1h 39min 37s\n",
      "Wall time: 2h 11min 1s\n"
     ]
    }
   ],
   "source": [
    "%%time\n",
    "knn_proba = knn.predict_proba(X)[:,1] #Probability of datapoints being normal and outlier"
   ]
  },
  {
   "cell_type": "code",
   "execution_count": 56,
   "metadata": {},
   "outputs": [],
   "source": [
    "knn_score = knn.decision_scores_ #The outlier scores of the training data. High score means more likely to be an outlier."
   ]
  },
  {
   "cell_type": "code",
   "execution_count": 56,
   "metadata": {},
   "outputs": [
    {
     "name": "stdout",
     "output_type": "stream",
     "text": [
      "Local Outlier Factor: 2611\n",
      "Accuracy Score :\n",
      "0.9908323882488843\n",
      "Classification Report :\n",
      "              precision    recall  f1-score   support\n",
      "\n",
      "           0       1.00      0.99      1.00    284315\n",
      "           1       0.08      0.41      0.13       492\n",
      "\n",
      "    accuracy                           0.99    284807\n",
      "   macro avg       0.54      0.70      0.56    284807\n",
      "weighted avg       1.00      0.99      0.99    284807\n",
      "\n"
     ]
    }
   ],
   "source": [
    "n_errors = (knn_predict != y).sum()\n",
    "print(f'Local Outlier Factor: {n_errors}')\n",
    "\n",
    "print(\"Accuracy Score :\")\n",
    "print(accuracy_score(y,knn_predict))\n",
    "print(\"Classification Report :\")\n",
    "print(classification_report(y,knn_predict))"
   ]
  },
  {
   "cell_type": "code",
   "execution_count": 59,
   "metadata": {},
   "outputs": [
    {
     "name": "stdout",
     "output_type": "stream",
     "text": [
      "knn ROC:0.9394, precision @ rank n:0.0955\n"
     ]
    }
   ],
   "source": [
    "evaluate_print('knn',y,knn_score) #It prints the ROC AUC score."
   ]
  },
  {
   "cell_type": "markdown",
   "metadata": {},
   "source": [
    "# HBOS"
   ]
  },
  {
   "cell_type": "code",
   "execution_count": 183,
   "metadata": {},
   "outputs": [],
   "source": [
    "from pyod.models.hbos import HBOS\n",
    "hbos = HBOS(contamination=0.01)"
   ]
  },
  {
   "cell_type": "code",
   "execution_count": 212,
   "metadata": {},
   "outputs": [
    {
     "name": "stdout",
     "output_type": "stream",
     "text": [
      "CPU times: user 478 ms, sys: 66.8 ms, total: 545 ms\n",
      "Wall time: 427 ms\n"
     ]
    },
    {
     "data": {
      "text/plain": [
       "HBOS(alpha=0.1, contamination=0.01, n_bins=10, tol=0.5)"
      ]
     },
     "execution_count": 212,
     "metadata": {},
     "output_type": "execute_result"
    }
   ],
   "source": [
    "%%time\n",
    "hbos.fit(X,y=None) #Fitting"
   ]
  },
  {
   "cell_type": "code",
   "execution_count": 213,
   "metadata": {},
   "outputs": [
    {
     "name": "stdout",
     "output_type": "stream",
     "text": [
      "CPU times: user 328 ms, sys: 16.9 ms, total: 345 ms\n",
      "Wall time: 220 ms\n"
     ]
    }
   ],
   "source": [
    "%%time\n",
    "hbos_predict = hbos.predict(X) #Prediction"
   ]
  },
  {
   "cell_type": "code",
   "execution_count": 214,
   "metadata": {},
   "outputs": [
    {
     "data": {
      "text/plain": [
       "(array([0, 1]), array([281958,   2849]))"
      ]
     },
     "execution_count": 214,
     "metadata": {},
     "output_type": "execute_result"
    }
   ],
   "source": [
    "np.unique(hbos_predict,return_counts=True) #Distribution"
   ]
  },
  {
   "cell_type": "code",
   "execution_count": 215,
   "metadata": {},
   "outputs": [],
   "source": [
    "hbos_proba = hbos.predict_proba(X)[:,1] #Probability of datapoints being normal and outlier\n",
    "\n",
    "hbos_score = hbos.decision_scores_ #The outlier scores of the training data. High score means more likely to be an outlier."
   ]
  },
  {
   "cell_type": "code",
   "execution_count": 216,
   "metadata": {
    "scrolled": true
   },
   "outputs": [
    {
     "name": "stdout",
     "output_type": "stream",
     "text": [
      "Local Outlier Factor: 2633\n",
      "Accuracy Score :\n",
      "0.9907551429564583\n",
      "Classification Report :\n",
      "              precision    recall  f1-score   support\n",
      "\n",
      "           0       1.00      0.99      1.00    284315\n",
      "           1       0.12      0.72      0.21       492\n",
      "\n",
      "    accuracy                           0.99    284807\n",
      "   macro avg       0.56      0.86      0.60    284807\n",
      "weighted avg       1.00      0.99      0.99    284807\n",
      "\n"
     ]
    }
   ],
   "source": [
    "n_errors = (hbos_predict != y).sum()\n",
    "print(f'Local Outlier Factor: {n_errors}')\n",
    "\n",
    "print(\"Accuracy Score :\")\n",
    "print(accuracy_score(y,hbos_predict))\n",
    "print(\"Classification Report :\")\n",
    "print(classification_report(y,hbos_predict))"
   ]
  },
  {
   "cell_type": "code",
   "execution_count": 217,
   "metadata": {},
   "outputs": [
    {
     "name": "stdout",
     "output_type": "stream",
     "text": [
      "HBOS ROC:0.9477, precision @ rank n:0.3971\n"
     ]
    }
   ],
   "source": [
    "evaluate_print('HBOS',y,hbos_score) #It prints the ROC AUC score."
   ]
  },
  {
   "cell_type": "markdown",
   "metadata": {},
   "source": [
    "# Isolation Forest"
   ]
  },
  {
   "cell_type": "code",
   "execution_count": 19,
   "metadata": {},
   "outputs": [],
   "source": [
    "from pyod.models.iforest import IForest"
   ]
  },
  {
   "cell_type": "code",
   "execution_count": 124,
   "metadata": {},
   "outputs": [
    {
     "name": "stdout",
     "output_type": "stream",
     "text": [
      "CPU times: user 37.3 s, sys: 3.81 s, total: 41.1 s\n",
      "Wall time: 20.9 s\n"
     ]
    },
    {
     "data": {
      "text/plain": [
       "IForest(behaviour='old', bootstrap=False, contamination=0.01,\n",
       "    max_features=1.0, max_samples='auto', n_estimators=100, n_jobs=-1,\n",
       "    random_state=None, verbose=0)"
      ]
     },
     "execution_count": 124,
     "metadata": {},
     "output_type": "execute_result"
    }
   ],
   "source": [
    "%%time\n",
    "#Isolation Forest\n",
    "IF = IForest(n_estimators=100,contamination=0.01,n_jobs=-1)\n",
    "IF.fit(X) #Fitting"
   ]
  },
  {
   "cell_type": "code",
   "execution_count": 125,
   "metadata": {},
   "outputs": [
    {
     "name": "stdout",
     "output_type": "stream",
     "text": [
      "CPU times: user 16.3 s, sys: 949 ms, total: 17.2 s\n",
      "Wall time: 9.29 s\n"
     ]
    }
   ],
   "source": [
    "%%time\n",
    "IF_predict = IF.predict(X) #Prediction"
   ]
  },
  {
   "cell_type": "code",
   "execution_count": 126,
   "metadata": {},
   "outputs": [
    {
     "data": {
      "text/plain": [
       "(array([0, 1]), array([281958,   2849]))"
      ]
     },
     "execution_count": 126,
     "metadata": {},
     "output_type": "execute_result"
    }
   ],
   "source": [
    "np.unique(IF_predict,return_counts=True)"
   ]
  },
  {
   "cell_type": "code",
   "execution_count": 127,
   "metadata": {},
   "outputs": [],
   "source": [
    "IF_proba = IF.predict_proba(X)[:,1] #Probability of datapoints being normal and outlier\n",
    "IF_score = IF.decision_scores_ #The outlier scores of the training data."
   ]
  },
  {
   "cell_type": "code",
   "execution_count": 128,
   "metadata": {
    "scrolled": false
   },
   "outputs": [
    {
     "name": "stdout",
     "output_type": "stream",
     "text": [
      "Local Outlier Factor: 2731\n",
      "Accuracy Score :\n",
      "0.9904110502901965\n",
      "Classification Report :\n",
      "              precision    recall  f1-score   support\n",
      "\n",
      "           0       1.00      0.99      1.00    284315\n",
      "           1       0.11      0.62      0.18       492\n",
      "\n",
      "    accuracy                           0.99    284807\n",
      "   macro avg       0.55      0.81      0.59    284807\n",
      "weighted avg       1.00      0.99      0.99    284807\n",
      "\n"
     ]
    }
   ],
   "source": [
    "n_errors = (IF_predict != y).sum()\n",
    "print(f'Local Outlier Factor: {n_errors}')\n",
    "\n",
    "print(\"Accuracy Score :\")\n",
    "print(accuracy_score(y,IF_predict))\n",
    "print(\"Classification Report :\")\n",
    "print(classification_report(y,IF_predict))"
   ]
  },
  {
   "cell_type": "code",
   "execution_count": 129,
   "metadata": {},
   "outputs": [
    {
     "name": "stdout",
     "output_type": "stream",
     "text": [
      "IF ROC:0.9489, precision @ rank n:0.3008\n"
     ]
    }
   ],
   "source": [
    "evaluate_print('IF',y,IF_score) #It prints the ROC AUC score."
   ]
  },
  {
   "cell_type": "markdown",
   "metadata": {},
   "source": [
    "# Bonus: Semi-unsupervised Machine Learning"
   ]
  },
  {
   "cell_type": "markdown",
   "metadata": {},
   "source": [
    "# One Clss SVM"
   ]
  },
  {
   "cell_type": "code",
   "execution_count": 41,
   "metadata": {},
   "outputs": [],
   "source": [
    "# Before we do One Class Support Vector Machine we need to prepare some datasets\n",
    "non_fraud = df[df['Class']== 0] #Only normal transactions\n",
    "fraud = df[df['Class']== 1] #Fraudulent transactions\n",
    "\n",
    "# Spltting normal transactions into one for training and one for validation later on\n",
    "df_train, val = train_test_split(non_fraud, test_size=0.20)\n",
    "\n",
    "df_val = val.drop('Class',axis=1) # Drop Class Column from validation normal transactions\n",
    "df_fraud = fraud.drop('Class',axis=1) #Drop Class Column from fraudulent transactions \n",
    "\n",
    "y_val = val['Class'] #Class of validation noraml transactions\n",
    "y_fraud = fraud['Class'] #Class of fraudulent transactions\n",
    "y_testval = pd.concat([y_val, y_fraud]) #Combine Classes of above two, will be used for evaluation\n",
    "y_testval = np.array(y_testval)  \n",
    "df_testval = pd.concat([df_val, df_fraud]) #Combine validation normal transactions and fraudulent transactions"
   ]
  },
  {
   "cell_type": "code",
   "execution_count": 42,
   "metadata": {},
   "outputs": [
    {
     "name": "stdout",
     "output_type": "stream",
     "text": [
      "CPU times: user 9min 40s, sys: 3.17 s, total: 9min 43s\n",
      "Wall time: 9min 55s\n"
     ]
    },
    {
     "data": {
      "text/plain": [
       "OneClassSVM(cache_size=200, coef0=0.0, degree=3, gamma=0.007, kernel='rbf',\n",
       "            max_iter=-1, nu=0.01, random_state=None, shrinking=True, tol=0.001,\n",
       "            verbose=False)"
      ]
     },
     "execution_count": 42,
     "metadata": {},
     "output_type": "execute_result"
    }
   ],
   "source": [
    "%%time\n",
    "from sklearn import svm\n",
    "# Instantiate model\n",
    "ocsvm = svm.OneClassSVM(kernel='rbf', nu=0.01,gamma=0.007)\n",
    "\n",
    "ocsvm.fit(df_train.drop('Class',axis=1))"
   ]
  },
  {
   "cell_type": "code",
   "execution_count": 44,
   "metadata": {},
   "outputs": [
    {
     "name": "stdout",
     "output_type": "stream",
     "text": [
      "CPU times: user 5.54 s, sys: 56.1 ms, total: 5.59 s\n",
      "Wall time: 5.59 s\n"
     ]
    },
    {
     "data": {
      "text/plain": [
       "(array([-1,  1]), array([  975, 56380]))"
      ]
     },
     "execution_count": 44,
     "metadata": {},
     "output_type": "execute_result"
    }
   ],
   "source": [
    "%%time\n",
    "ocsvm_predict = ocsvm.predict(df_testval)\n",
    "np.unique(ocsvm_predict,return_counts=True)"
   ]
  },
  {
   "cell_type": "code",
   "execution_count": 45,
   "metadata": {},
   "outputs": [
    {
     "data": {
      "text/plain": [
       "(array([0, 1]), array([56380,   975]))"
      ]
     },
     "execution_count": 45,
     "metadata": {},
     "output_type": "execute_result"
    }
   ],
   "source": [
    "ocsvm_predict[ocsvm_predict == 1] = 0\n",
    "ocsvm_predict[ocsvm_predict == -1] = 1\n",
    "np.unique(ocsvm_predict,return_counts=True)"
   ]
  },
  {
   "cell_type": "code",
   "execution_count": 49,
   "metadata": {
    "scrolled": true
   },
   "outputs": [
    {
     "name": "stdout",
     "output_type": "stream",
     "text": [
      "Local Outlier Factor: 663\n",
      "Accuracy Score :\n",
      "0.988440414959463\n",
      "Classification Report :\n",
      "              precision    recall  f1-score   support\n",
      "\n",
      "           0       1.00      0.99      0.99     56863\n",
      "           1       0.41      0.82      0.55       492\n",
      "\n",
      "    accuracy                           0.99     57355\n",
      "   macro avg       0.71      0.90      0.77     57355\n",
      "weighted avg       0.99      0.99      0.99     57355\n",
      "\n",
      "Confusion Matrix\n",
      "[[56290   573]\n",
      " [   90   402]]\n"
     ]
    }
   ],
   "source": [
    "n_errors = (ocsvm_predict != y_testval).sum()\n",
    "print(f'Local Outlier Factor: {n_errors}')\n",
    "\n",
    "print(\"Accuracy Score :\")\n",
    "print(accuracy_score(y_testval,ocsvm_predict))\n",
    "print(\"Classification Report :\")\n",
    "print(classification_report(y_testval,ocsvm_predict))\n",
    "print(\"Confusion Matrix\")\n",
    "print(confusion_matrix(y_testval,ocsvm_predict))"
   ]
  },
  {
   "cell_type": "markdown",
   "metadata": {},
   "source": [
    "# Bagging models\n",
    "In terms of outlier detection, certain models invovle randomness in their machine learning process. In order to mitigate such issues, we can use bagging methods to average out the anomaly scores hence the anomaly points.\n",
    "\n",
    "We can control the number of estimators by changing n_estimators parameter and still assigning contamination parameter as 0.01."
   ]
  },
  {
   "cell_type": "code",
   "execution_count": 90,
   "metadata": {},
   "outputs": [],
   "source": [
    "from pyod.models.feature_bagging import FeatureBagging"
   ]
  },
  {
   "cell_type": "code",
   "execution_count": 140,
   "metadata": {},
   "outputs": [
    {
     "name": "stdout",
     "output_type": "stream",
     "text": [
      "CPU times: user 13min 29s, sys: 58.2 s, total: 14min 27s\n",
      "Wall time: 7min 46s\n"
     ]
    },
    {
     "data": {
      "text/plain": [
       "FeatureBagging(base_estimator=IForest(behaviour='old', bootstrap=False, contamination=0.1, max_features=1.0,\n",
       "    max_samples='auto', n_estimators=100, n_jobs=1, random_state=None,\n",
       "    verbose=0),\n",
       "        bootstrap_features=False, check_detector=True,\n",
       "        check_estimator=False, combination='average', contamination=0.01,\n",
       "        estimator_params={}, max_features=1.0, n_estimators=25, n_jobs=-1,\n",
       "        random_state=None, verbose=0)"
      ]
     },
     "execution_count": 140,
     "metadata": {},
     "output_type": "execute_result"
    }
   ],
   "source": [
    "%%time\n",
    "FB_IF = FeatureBagging(base_estimator=IForest(),n_estimators=25,contamination=0.01,n_jobs=-1)\n",
    "FB_IF.fit(X)"
   ]
  },
  {
   "cell_type": "code",
   "execution_count": 141,
   "metadata": {},
   "outputs": [
    {
     "name": "stdout",
     "output_type": "stream",
     "text": [
      "CPU times: user 5min 54s, sys: 23.4 s, total: 6min 17s\n",
      "Wall time: 3min 22s\n"
     ]
    }
   ],
   "source": [
    "%%time\n",
    "FB_IF_predict = FB_IF.predict(X)"
   ]
  },
  {
   "cell_type": "code",
   "execution_count": 142,
   "metadata": {
    "scrolled": true
   },
   "outputs": [
    {
     "data": {
      "text/plain": [
       "(array([0, 1]), array([281958,   2849]))"
      ]
     },
     "execution_count": 142,
     "metadata": {},
     "output_type": "execute_result"
    }
   ],
   "source": [
    "np.unique(FB_IF_predict,return_counts=True)"
   ]
  },
  {
   "cell_type": "code",
   "execution_count": 143,
   "metadata": {},
   "outputs": [],
   "source": [
    "FB_IF_proba = FB_IF.predict_proba(X)[:,1]\n",
    "FB_IF_score = FB_IF.decision_scores_"
   ]
  },
  {
   "cell_type": "code",
   "execution_count": 144,
   "metadata": {},
   "outputs": [
    {
     "name": "stdout",
     "output_type": "stream",
     "text": [
      "Local Outlier Factor: 2737\n",
      "Accuracy Score :\n",
      "0.9903899833922621\n",
      "Classification Report :\n",
      "              precision    recall  f1-score   support\n",
      "\n",
      "           0       1.00      0.99      1.00    284315\n",
      "           1       0.11      0.61      0.18       492\n",
      "\n",
      "    accuracy                           0.99    284807\n",
      "   macro avg       0.55      0.80      0.59    284807\n",
      "weighted avg       1.00      0.99      0.99    284807\n",
      "\n"
     ]
    }
   ],
   "source": [
    "n_errors = (FB_IF_predict != y).sum()\n",
    "print(f'Local Outlier Factor: {n_errors}')\n",
    "\n",
    "print(\"Accuracy Score :\")\n",
    "print(accuracy_score(y,FB_IF_predict))\n",
    "print(\"Classification Report :\")\n",
    "print(classification_report(y,FB_IF_predict))"
   ]
  },
  {
   "cell_type": "code",
   "execution_count": 96,
   "metadata": {},
   "outputs": [
    {
     "name": "stdout",
     "output_type": "stream",
     "text": [
      "Ensemble of 25 IF ROC:0.9477, precision @ rank n:0.2764\n"
     ]
    }
   ],
   "source": [
    "evaluate_print('Ensemble of 25 IF',y,FB_IF_score)"
   ]
  },
  {
   "cell_type": "markdown",
   "metadata": {},
   "source": [
    "# Bagging for HBOS"
   ]
  },
  {
   "cell_type": "code",
   "execution_count": 218,
   "metadata": {},
   "outputs": [
    {
     "name": "stdout",
     "output_type": "stream",
     "text": [
      "CPU times: user 8.79 s, sys: 665 ms, total: 9.46 s\n",
      "Wall time: 5.93 s\n"
     ]
    },
    {
     "data": {
      "text/plain": [
       "FeatureBagging(base_estimator=HBOS(alpha=0.1, contamination=0.1, n_bins=10, tol=0.5),\n",
       "        bootstrap_features=False, check_detector=True,\n",
       "        check_estimator=False, combination='average', contamination=0.01,\n",
       "        estimator_params={}, max_features=1.0, n_estimators=25, n_jobs=-1,\n",
       "        random_state=None, verbose=0)"
      ]
     },
     "execution_count": 218,
     "metadata": {},
     "output_type": "execute_result"
    }
   ],
   "source": [
    "%%time\n",
    "FB_hbos = FeatureBagging(base_estimator=HBOS(),n_estimators=25,contamination=0.01,n_jobs=-1)\n",
    "FB_hbos.fit(X)"
   ]
  },
  {
   "cell_type": "code",
   "execution_count": 219,
   "metadata": {},
   "outputs": [
    {
     "name": "stdout",
     "output_type": "stream",
     "text": [
      "CPU times: user 5.92 s, sys: 348 ms, total: 6.27 s\n",
      "Wall time: 3.55 s\n"
     ]
    },
    {
     "data": {
      "text/plain": [
       "(array([0, 1]), array([281958,   2849]))"
      ]
     },
     "execution_count": 219,
     "metadata": {},
     "output_type": "execute_result"
    }
   ],
   "source": [
    "%%time\n",
    "FB_hbos_predict = FB_hbos.predict(X)\n",
    "np.unique(FB_IF_predict,return_counts=True)"
   ]
  },
  {
   "cell_type": "code",
   "execution_count": 220,
   "metadata": {},
   "outputs": [],
   "source": [
    "FB_hbos_proba = FB_hbos.predict_proba(X)[:,1]\n",
    "FB_hbos_score = FB_hbos.decision_scores_"
   ]
  },
  {
   "cell_type": "code",
   "execution_count": 221,
   "metadata": {
    "scrolled": true
   },
   "outputs": [
    {
     "name": "stdout",
     "output_type": "stream",
     "text": [
      "Local Outlier Factor: 2630\n",
      "Accuracy Score :\n",
      "0.9907656764054255\n",
      "Classification Report :\n",
      "              precision    recall  f1-score   support\n",
      "\n",
      "           0       1.00      0.99      1.00    284315\n",
      "           1       0.12      0.72      0.21       492\n",
      "\n",
      "    accuracy                           0.99    284807\n",
      "   macro avg       0.56      0.86      0.60    284807\n",
      "weighted avg       1.00      0.99      0.99    284807\n",
      "\n"
     ]
    }
   ],
   "source": [
    "n_errors = (FB_hbos_predict != y).sum()\n",
    "print(f'Local Outlier Factor: {n_errors}')\n",
    "\n",
    "print(\"Accuracy Score :\")\n",
    "print(accuracy_score(y,FB_hbos_predict))\n",
    "print(\"Classification Report :\")\n",
    "print(classification_report(y,FB_hbos_predict))"
   ]
  },
  {
   "cell_type": "code",
   "execution_count": 222,
   "metadata": {},
   "outputs": [
    {
     "name": "stdout",
     "output_type": "stream",
     "text": [
      "Ensemble of 25 HBOS ROC:0.9474, precision @ rank n:0.3943\n"
     ]
    }
   ],
   "source": [
    "evaluate_print('Ensemble of 25 HBOS',y,FB_hbos_score)"
   ]
  },
  {
   "cell_type": "markdown",
   "metadata": {},
   "source": [
    "# Bagging for CBLOF"
   ]
  },
  {
   "cell_type": "code",
   "execution_count": 145,
   "metadata": {},
   "outputs": [
    {
     "name": "stdout",
     "output_type": "stream",
     "text": [
      "CPU times: user 7min 44s, sys: 37.9 s, total: 8min 22s\n",
      "Wall time: 7min 27s\n"
     ]
    },
    {
     "data": {
      "text/plain": [
       "FeatureBagging(base_estimator=CBLOF(alpha=0.9, beta=5, check_estimator=False, clustering_estimator=None,\n",
       "   contamination=0.1, n_clusters=8, n_jobs=1, random_state=None,\n",
       "   use_weights=False),\n",
       "        bootstrap_features=False, check_detector=True,\n",
       "        check_estimator=False, combination='average', contamination=0.01,\n",
       "        estimator_params={}, max_features=1.0, n_estimators=25, n_jobs=-1,\n",
       "        random_state=None, verbose=0)"
      ]
     },
     "execution_count": 145,
     "metadata": {},
     "output_type": "execute_result"
    }
   ],
   "source": [
    "%%time\n",
    "FB_cblof = FeatureBagging(base_estimator=CBLOF(),n_estimators=25,contamination=0.01,n_jobs=-1)\n",
    "FB_cblof.fit(X)"
   ]
  },
  {
   "cell_type": "code",
   "execution_count": 146,
   "metadata": {},
   "outputs": [
    {
     "name": "stdout",
     "output_type": "stream",
     "text": [
      "CPU times: user 7.5 s, sys: 729 ms, total: 8.23 s\n",
      "Wall time: 4.62 s\n"
     ]
    }
   ],
   "source": [
    "%%time\n",
    "FB_cblof_predict = FB_cblof.predict(X)"
   ]
  },
  {
   "cell_type": "code",
   "execution_count": 147,
   "metadata": {},
   "outputs": [
    {
     "data": {
      "text/plain": [
       "(array([0, 1]), array([281958,   2849]))"
      ]
     },
     "execution_count": 147,
     "metadata": {},
     "output_type": "execute_result"
    }
   ],
   "source": [
    "np.unique(FB_cblof_predict,return_counts=True)"
   ]
  },
  {
   "cell_type": "code",
   "execution_count": 148,
   "metadata": {},
   "outputs": [],
   "source": [
    "FB_cblof_proba = FB_cblof.predict_proba(X)[:,1]\n",
    "FB_cblof_score = FB_cblof.decision_scores_"
   ]
  },
  {
   "cell_type": "code",
   "execution_count": 149,
   "metadata": {
    "scrolled": false
   },
   "outputs": [
    {
     "name": "stdout",
     "output_type": "stream",
     "text": [
      "Local Outlier Factor: 2727\n",
      "Accuracy Score :\n",
      "0.9904250948888195\n",
      "Classcblofication Report :\n",
      "              precision    recall  f1-score   support\n",
      "\n",
      "           0       1.00      0.99      1.00    284315\n",
      "           1       0.11      0.62      0.18       492\n",
      "\n",
      "    accuracy                           0.99    284807\n",
      "   macro avg       0.55      0.81      0.59    284807\n",
      "weighted avg       1.00      0.99      0.99    284807\n",
      "\n"
     ]
    }
   ],
   "source": [
    "n_errors = (FB_cblof_predict != y).sum()\n",
    "print(f'Local Outlier Factor: {n_errors}')\n",
    "\n",
    "print(\"Accuracy Score :\")\n",
    "print(accuracy_score(y,FB_cblof_predict))\n",
    "print(\"Classcblofication Report :\")\n",
    "print(classification_report(y,FB_cblof_predict))"
   ]
  },
  {
   "cell_type": "code",
   "execution_count": 123,
   "metadata": {},
   "outputs": [
    {
     "name": "stdout",
     "output_type": "stream",
     "text": [
      "Ensemble of 25 CBLOF ROC:0.9583, precision @ rank n:0.2297\n"
     ]
    }
   ],
   "source": [
    "evaluate_print('Ensemble of 25 CBLOF',y,FB_cblof_score)"
   ]
  },
  {
   "cell_type": "markdown",
   "metadata": {},
   "source": [
    "# Benchmark Comparison"
   ]
  },
  {
   "cell_type": "markdown",
   "metadata": {},
   "source": [
    "We are going to take a look at some benchmarks from time it takes to run to ROC AUC, Recall and F1 score. By principle it is against the whole purpose of unsupervised learning to check the recall score and AUC score but it's for the curiousity of mine. "
   ]
  },
  {
   "cell_type": "markdown",
   "metadata": {},
   "source": [
    "Train time and Prediction Time.\n",
    "\n",
    "Reason why I check time it takes to run is to replicate the real life scenario as much as possible because we want to use this for credit card fraud detection. With the amount of credit card transaction coming in every hour and day, it is not practical to use the model that takes too long to run."
   ]
  },
  {
   "cell_type": "code",
   "execution_count": 43,
   "metadata": {},
   "outputs": [],
   "source": [
    "## Performance Plot\n",
    "train_times={\n",
    "    'KNN': 570.0,\n",
    "    'LOF':565.0,\n",
    "    'IF': 19.0,\n",
    "    'HBOS':0.4,\n",
    "    'CBLOF': 13.0,\n",
    "    'OCSVM': 773.0\n",
    "}\n",
    "\n",
    "prediction_times={\n",
    "    'KNN': 6017.0,\n",
    "    'LOF': 552.0,\n",
    "    'IF':9.5,\n",
    "    'HBOS': 0.2,\n",
    "    'CBLOF': 0.3,\n",
    "    'OCSVM': 5.3\n",
    "}"
   ]
  },
  {
   "cell_type": "code",
   "execution_count": 298,
   "metadata": {},
   "outputs": [
    {
     "data": {
      "image/png": "[encoded data removed]",
      "text/plain": [
       "<Figure size 576x288 with 1 Axes>"
      ]
     },
     "metadata": {
      "needs_background": "light"
     },
     "output_type": "display_data"
    }
   ],
   "source": [
    "plt.figure(figsize=(8,4))\n",
    "plt.title('Training Time')\n",
    "plt.barh(range(len(train_times)), list(train_times.values()), align='center',)\n",
    "plt.yticks(range(len(train_times)), list(train_times.keys()))\n",
    "plt.xlabel('Time in seconds')\n",
    "plt.savefig('Training Time.jpeg')\n",
    "plt.show()"
   ]
  },
  {
   "cell_type": "markdown",
   "metadata": {},
   "source": [
    "We see that KNN and Local Outlier Factor takes about 9 minutes and OneClass SVM takes about 13 minutes to train as opposed to other 3 models which take less than a minute. HBOS takes less than a second."
   ]
  },
  {
   "cell_type": "code",
   "execution_count": 299,
   "metadata": {
    "scrolled": true
   },
   "outputs": [
    {
     "data": {
      "image/png": "[encoded data removed]",
      "text/plain": [
       "<Figure size 576x288 with 1 Axes>"
      ]
     },
     "metadata": {
      "needs_background": "light"
     },
     "output_type": "display_data"
    }
   ],
   "source": [
    "plt.figure(figsize=(8,4))\n",
    "plt.title('Prediction Time')\n",
    "plt.barh(range(len(prediction_times)), list(prediction_times.values()), align='center')\n",
    "plt.yticks(range(len(prediction_times)), list(prediction_times.keys()))\n",
    "plt.xlabel('Time in seconds')\n",
    "plt.savefig('Prediction Time.jpeg')\n",
    "plt.show()"
   ]
  },
  {
   "cell_type": "markdown",
   "metadata": {},
   "source": [
    "KNN takes extremely long to predict due to its heavy computation part. LOF will take about 9 minutes to predict yet other 3 models will take less than 10 seconds to run."
   ]
  },
  {
   "cell_type": "markdown",
   "metadata": {},
   "source": [
    "Performance Plot (ROC_AUC score, Recall score and F1 score)"
   ]
  },
  {
   "cell_type": "code",
   "execution_count": 52,
   "metadata": {},
   "outputs": [],
   "source": [
    "hbos_proba = X_backup['hbos_proba']\n",
    "IF_predict = X_backup['IF_predict']\n",
    "knn_predict = X_backup['knn_predict']\n",
    "cblof_predict = X_backup['cblof_predict']\n",
    "lof_predict = X_backup['lof_predict']"
   ]
  },
  {
   "cell_type": "code",
   "execution_count": 130,
   "metadata": {},
   "outputs": [],
   "source": [
    "## Performance Plot\n",
    "auc_scores={\n",
    "    'IF': roc_auc_score(y, IF_proba),\n",
    "    'KNN': roc_auc_score(y,knn_proba),\n",
    "    'CBLOF': roc_auc_score(y,cblof_proba),\n",
    "    'LOF': roc_auc_score(y,lof_score),\n",
    "    'HBOS':roc_auc_score(y,hbos_proba)\n",
    "}\n",
    "\n",
    "recall_scores={\n",
    "    'IF':recall_score(y, IF_predict),\n",
    "    'KNN': recall_score(y,knn_predict),\n",
    "    'CBLOF': recall_score(y,cblof_predict),\n",
    "    'LOF': recall_score(y,lof_predict),\n",
    "    'HBOS':recall_score(y,hbos_predict),\n",
    "    'OCSVM':recall_score(y_testval,ocsvm_predict)\n",
    "}\n",
    "\n",
    "F1_score = {\n",
    "    'IF':f1_score(y, IF_predict),\n",
    "    'KNN': f1_score(y,knn_predict),\n",
    "    'CBLOF': f1_score(y,cblof_predict),\n",
    "    'LOF': f1_score(y,lof_predict),\n",
    "    'HBOS':f1_score(y,hbos_predict),\n",
    "    'OCSVM': f1_score(y_testval,ocsvm_predict)\n",
    "}"
   ]
  },
  {
   "cell_type": "markdown",
   "metadata": {},
   "source": [
    "Area Under Curve(Receiver Operating Characteristic) , AUC for OCSVM has been omitted since I couldn't find the method for getting probability values."
   ]
  },
  {
   "cell_type": "code",
   "execution_count": 131,
   "metadata": {
    "scrolled": false
   },
   "outputs": [
    {
     "data": {
      "image/png": "[encoded data removed]",
      "text/plain": [
       "<Figure size 576x288 with 1 Axes>"
      ]
     },
     "metadata": {
      "needs_background": "light"
     },
     "output_type": "display_data"
    }
   ],
   "source": [
    "plt.figure(figsize=(8,4))\n",
    "plt.title('AUC Scores')\n",
    "plt.barh(range(len(auc_scores)), list(auc_scores.values()), align='center')\n",
    "plt.yticks(range(len(auc_scores)), list(auc_scores.keys()))\n",
    "plt.xlabel('AUC Score')\n",
    "plt.savefig('AUC bar Score.jpeg')\n",
    "plt.show()"
   ]
  },
  {
   "cell_type": "markdown",
   "metadata": {},
   "source": [
    "Though AUC is generally a good indicator of how good a model is performing. However since our purpose is to detect outliers and dataset's high imbalance, AUC would be misleading. \n",
    "\n",
    "Which is why we need to focus on `recall score.` F1 score is for the reference as well."
   ]
  },
  {
   "cell_type": "code",
   "execution_count": 139,
   "metadata": {},
   "outputs": [
    {
     "data": {
      "image/png": "[encoded data removed]",
      "text/plain": [
       "<Figure size 576x288 with 1 Axes>"
      ]
     },
     "metadata": {
      "needs_background": "light"
     },
     "output_type": "display_data"
    }
   ],
   "source": [
    "plt.figure(figsize=(8,4))\n",
    "plt.title('Recall Scores')\n",
    "plt.barh(range(len(recall_scores)), list(recall_scores.values()), align='center')\n",
    "plt.yticks(range(len(recall_scores)), list(recall_scores.keys()))\n",
    "plt.xlabel('Recall Score')\n",
    "plt.savefig('Recall Score.jpeg')\n",
    "plt.show()"
   ]
  },
  {
   "cell_type": "code",
   "execution_count": 314,
   "metadata": {
    "scrolled": true
   },
   "outputs": [
    {
     "data": {
      "image/png": "[encoded data removed]",
      "text/plain": [
       "<Figure size 576x288 with 1 Axes>"
      ]
     },
     "metadata": {
      "needs_background": "light"
     },
     "output_type": "display_data"
    }
   ],
   "source": [
    "plt.figure(figsize=(8,4))\n",
    "plt.title('F1 Scores')\n",
    "plt.barh(range(len(F1_score)), list(F1_score.values()), align='center')\n",
    "plt.yticks(range(len(F1_score)), list(F1_score.keys()))\n",
    "plt.xlabel('F1 Score')\n",
    "plt.savefig('F1 Score.jpeg')\n",
    "plt.show()"
   ]
  },
  {
   "cell_type": "markdown",
   "metadata": {},
   "source": [
    "Though OCSVM is outperforming other models but it is not purely an unsupervised model so it's probably best to see it as an reference. Also it is not using the same amount of dataset as others. \n",
    "\n",
    "We see that HBOS and CBLOF has captured quite a good amount of frauds seeing its recall scores. LOF on the other hand performed very terribly.\n",
    "\n",
    "It is once again proved that complicated model does not guarantee its result."
   ]
  },
  {
   "cell_type": "markdown",
   "metadata": {},
   "source": [
    "Confusion Matrix"
   ]
  },
  {
   "cell_type": "code",
   "execution_count": 302,
   "metadata": {
    "scrolled": true
   },
   "outputs": [
    {
     "data": {
      "image/png": "[encoded data removed]",
      "text/plain": [
       "<Figure size 1440x1080 with 6 Axes>"
      ]
     },
     "metadata": {
      "needs_background": "light"
     },
     "output_type": "display_data"
    }
   ],
   "source": [
    "fig, ax = plt.subplots(3, 2,figsize=(20,15))\n",
    "\n",
    "lof_cf = confusion_matrix(y,lof_predict)\n",
    "knn_cf = confusion_matrix(y,knn_predict)\n",
    "if_cf = confusion_matrix(y,IF_predict)\n",
    "hbos_cf = confusion_matrix(y,hbos_predict)\n",
    "cblof_cf = confusion_matrix(y,cblof_predict)\n",
    "ocsvm_cf = confusion_matrix(y_testval,ocsvm_predict)\n",
    "\n",
    "sns.heatmap(lof_cf, ax=ax[0][0], annot=True,cbar=False,xticklabels=['Not Fraud', 'Fraud'],\n",
    "            yticklabels=['Not Fraud', 'Fraud'],annot_kws={\"size\": 22}, linewidths=.2,linecolor=\"Darkblue\",cmap=plt.cm.Greens,fmt='g')\n",
    "ax[0, 0].set_title(\"Local Outlier Factor \\n Confusion Matrix\", fontsize=16)\n",
    "\n",
    "sns.heatmap(knn_cf, ax=ax[0][1], annot=True,cbar=False,xticklabels=['Not Fraud', 'Fraud'],\n",
    "            yticklabels=['Not Fraud', 'Fraud'],annot_kws={\"size\": 22}, linewidths=.2,linecolor=\"Darkblue\", cmap=plt.cm.Greens,fmt='g')\n",
    "ax[0][1].set_title(\"KNearsNeighbors \\n Confusion Matrix\", fontsize=16)\n",
    "\n",
    "sns.heatmap(if_cf, ax=ax[1][0], annot=True, cbar=False,xticklabels=['Not Fraud', 'Fraud'],\n",
    "            yticklabels=['Not Fraud', 'Fraud'],annot_kws={\"size\": 22}, linewidths=.2,linecolor=\"Darkblue\",cmap=plt.cm.Greens,fmt='g')\n",
    "ax[1][0].set_title(\"Isolation Forest \\n Confusion Matrix\", fontsize=16)\n",
    "\n",
    "sns.heatmap(hbos_cf, ax=ax[1][1], annot=True, cbar=False,xticklabels=['Not Fraud', 'Fraud'],\n",
    "            yticklabels=['Not Fraud', 'Fraud'],annot_kws={\"size\": 22}, linewidths=.2,linecolor=\"Darkblue\",cmap=plt.cm.Greens,fmt='g')\n",
    "ax[1][1].set_title(\"Histogram Base Outlier Score \\n Confusion Matrix\",fontsize=16)\n",
    "\n",
    "\n",
    "sns.heatmap(cblof_cf, ax=ax[2][0], annot=True,cbar=False,xticklabels=['Not Fraud', 'Fraud'],\n",
    "            yticklabels=['Not Fraud', 'Fraud'],annot_kws={\"size\": 22}, linewidths=.2,linecolor=\"Darkblue\", cmap=plt.cm.Greens,fmt='g')\n",
    "ax[2][0].set_title(\"Cluster Base LOF \\n Confusion Matrix \", fontsize=16)\n",
    "\n",
    "\n",
    "sns.heatmap(ocsvm_cf, ax=ax[2][1], annot=True,cbar=False,xticklabels=['Not Fraud', 'Fraud'],\n",
    "            yticklabels=['Not Fraud', 'Fraud'],annot_kws={\"size\": 22}, linewidths=.2,linecolor=\"Darkblue\", cmap=plt.cm.Greens,fmt='g')\n",
    "ax[2][1].set_title(\"One Class SVM \\n Confusion Matrix\", fontsize=16)\n",
    "plt.savefig('Confusion Matrix.jpeg')\n",
    "\n",
    "plt.show()"
   ]
  },
  {
   "cell_type": "markdown",
   "metadata": {},
   "source": [
    "ROC AUC Visualization. (Keep in mind that OCSVM had to use prediction instead of probability for the visualization which explains its low AUC score. It would have been much higher if it had used probability)"
   ]
  },
  {
   "cell_type": "code",
   "execution_count": 343,
   "metadata": {},
   "outputs": [
    {
     "data": {
      "image/png": "[encoded data removed]",
      "text/plain": [
       "<Figure size 720x432 with 1 Axes>"
      ]
     },
     "metadata": {
      "needs_background": "light"
     },
     "output_type": "display_data"
    }
   ],
   "source": [
    "IF_fpr, IF_tpr, IF_thresholds = roc_curve(y, IF_proba)\n",
    "KNN_fpr, KNN_tpr, KNN_thresholds = roc_curve(y,knn_proba)\n",
    "CBLOF_fpr, CBLOF_tpr, CBLOF_thresholds = roc_curve(y,cblof_proba)\n",
    "LOF_fpr, LOF_tpr, LOF_thresholds = roc_curve(y,lof_score)\n",
    "HBOS_fpr, HBOS_tpr, HBOS_thresholds = roc_curve(y,hbos_proba)\n",
    "OCSVM_fpr, OCSVM_tpr, OCSVM_thresholds=roc_curve(y_testval,ocsvm_predict)\n",
    "\n",
    "IF_auc = roc_auc_score(y, IF_proba)\n",
    "KNN_auc = roc_auc_score(y,knn_predict)\n",
    "CBLOF_auc = roc_auc_score(y,cblof_proba)\n",
    "LOF_auc = roc_auc_score(y,lof_score)\n",
    "HBOS_auc =roc_auc_score(y,hbos_proba)\n",
    "OCSVM_auc = roc_auc_score(y_testval,ocsvm_predict)\n",
    "\n",
    "# Visualize \n",
    "plt.figure(figsize=(10,6))\n",
    "plt.plot(IF_fpr, IF_tpr, label=f'IF, AUC:{np.round(IF_auc, 2)}')\n",
    "plt.plot(KNN_fpr, KNN_tpr, label=f'KNN, AUC:{np.round(KNN_auc, 2)}')\n",
    "plt.plot(CBLOF_fpr, CBLOF_tpr, label=f'CBLOF, AUC:{np.round(CBLOF_auc, 2)}')\n",
    "plt.plot(LOF_fpr, LOF_tpr, label=f'LOF, AUC:{np.round(LOF_auc, 2)}')\n",
    "plt.plot(HBOS_fpr, HBOS_tpr, label=f'HBOS, AUC:{np.round(HBOS_auc, 2)}')\n",
    "plt.plot(OCSVM_fpr, OCSVM_tpr, label=f'OCSVM, AUC:{np.round(OCSVM_auc, 2)}')\n",
    "plt.plot([0, 1], [0, 1], color='black', linestyle='--')\n",
    "plt.legend(loc='best')\n",
    "plt.savefig('AUC Score.jpeg')\n",
    "plt.show()"
   ]
  },
  {
   "cell_type": "markdown",
   "metadata": {},
   "source": [
    "# Final step: Ensemble\n",
    "We have tried multiple unsupervised ML models and have seen what it does. By theory each models have their own distinct mathematical basis to detect outliers and I believe there are instances that one model could capture but others could not.\n",
    "\n",
    "It would be best to ensemble those models so we can capture as many suspicious transactions as possible."
   ]
  },
  {
   "cell_type": "markdown",
   "metadata": {},
   "source": [
    "# Chossing models to ensemble\n",
    "Though we have seen accuracy metrics, we are pretending we have not seen it because this is an unsupervised ML project. We are choosing our models purely based on time it takes to run instead. Hence we are using HBOS, CBLOF and IF."
   ]
  },
  {
   "cell_type": "code",
   "execution_count": 223,
   "metadata": {},
   "outputs": [],
   "source": [
    "# We use feature bagged model results (To mitigate randomness and overfitting)\n",
    "HBOS_flagged = X[FB_hbos_predict==1].index\n",
    "IF_flagged =X[FB_IF_predict==1].index\n",
    "CBLOF_flagged = X[FB_cblof_predict==1].index"
   ]
  },
  {
   "cell_type": "code",
   "execution_count": 224,
   "metadata": {},
   "outputs": [],
   "source": [
    "#Combine all the lists of 'predicted' fraudulent transactions\n",
    "voter = []\n",
    "for i in range(len(HBOS_flagged)) : \n",
    "    voter.append(HBOS_flagged[i])\n",
    "    voter.append(IF_flagged[i])\n",
    "    voter.append(CBLOF_flagged[i])"
   ]
  },
  {
   "cell_type": "code",
   "execution_count": 225,
   "metadata": {},
   "outputs": [],
   "source": [
    "# Separating index(index number of transaction) and how many votes it had(how many duplicates)\n",
    "votes = np.unique(voter,return_counts=True)\n",
    "Numvote=votes[1]\n",
    "TransactIndex=votes[0]"
   ]
  },
  {
   "cell_type": "code",
   "execution_count": 226,
   "metadata": {},
   "outputs": [
    {
     "data": {
      "text/html": [
       "<div>\n",
       "<style scoped>\n",
       "    .dataframe tbody tr th:only-of-type {\n",
       "        vertical-align: middle;\n",
       "    }\n",
       "\n",
       "    .dataframe tbody tr th {\n",
       "        vertical-align: top;\n",
       "    }\n",
       "\n",
       "    .dataframe thead th {\n",
       "        text-align: right;\n",
       "    }\n",
       "</style>\n",
       "<table border=\"1\" class=\"dataframe\">\n",
       "  <thead>\n",
       "    <tr style=\"text-align: right;\">\n",
       "      <th></th>\n",
       "      <th>Transaction</th>\n",
       "      <th>Vote</th>\n",
       "    </tr>\n",
       "  </thead>\n",
       "  <tbody>\n",
       "    <tr>\n",
       "      <th>2267</th>\n",
       "      <td>141260</td>\n",
       "      <td>3</td>\n",
       "    </tr>\n",
       "    <tr>\n",
       "      <th>2159</th>\n",
       "      <td>132286</td>\n",
       "      <td>3</td>\n",
       "    </tr>\n",
       "    <tr>\n",
       "      <th>2231</th>\n",
       "      <td>138706</td>\n",
       "      <td>3</td>\n",
       "    </tr>\n",
       "    <tr>\n",
       "      <th>2227</th>\n",
       "      <td>138286</td>\n",
       "      <td>3</td>\n",
       "    </tr>\n",
       "    <tr>\n",
       "      <th>2226</th>\n",
       "      <td>138230</td>\n",
       "      <td>3</td>\n",
       "    </tr>\n",
       "  </tbody>\n",
       "</table>\n",
       "</div>"
      ],
      "text/plain": [
       "      Transaction  Vote\n",
       "2267       141260     3\n",
       "2159       132286     3\n",
       "2231       138706     3\n",
       "2227       138286     3\n",
       "2226       138230     3"
      ]
     },
     "execution_count": 226,
     "metadata": {},
     "output_type": "execute_result"
    }
   ],
   "source": [
    "#Make it a dataframe\n",
    "Votelist = pd.DataFrame(list(zip(TransactIndex,Numvote)),columns=['Transaction','Vote'])\n",
    "\n",
    "#Sort in descending order by value of votes\n",
    "Votelist = Votelist.sort_values('Vote',ascending=False)\n",
    "Votelist.head()"
   ]
  },
  {
   "cell_type": "code",
   "execution_count": 242,
   "metadata": {},
   "outputs": [
    {
     "name": "stdout",
     "output_type": "stream",
     "text": [
      "[[280140   4175]\n",
      " [   133    359]]\n",
      "              precision    recall  f1-score   support\n",
      "\n",
      "           0       1.00      0.99      0.99    284315\n",
      "           1       0.08      0.73      0.14       492\n",
      "\n",
      "    accuracy                           0.98    284807\n",
      "   macro avg       0.54      0.86      0.57    284807\n",
      "weighted avg       1.00      0.98      0.99    284807\n",
      "\n"
     ]
    }
   ],
   "source": [
    "#Adding another column to the 'X' dataframe and converting its value to 1 if the transaction was in the list of ensemble model we did above and 0 if it was not there.\n",
    "X['vote'] = X.index.values\n",
    "vote_range = Votelist['Transaction'].values\n",
    "\n",
    "new_vote = X['vote'].isin(vote_range)\n",
    "\n",
    "X['vote'] = np.where(new_vote==False,0,1)\n",
    "\n",
    "print(confusion_matrix(y,X['vote']))\n",
    "print(classification_report(y,X['vote']))"
   ]
  },
  {
   "cell_type": "code",
   "execution_count": 243,
   "metadata": {},
   "outputs": [
    {
     "name": "stdout",
     "output_type": "stream",
     "text": [
      "[[283213   1102]\n",
      " [   210    282]]\n",
      "              precision    recall  f1-score   support\n",
      "\n",
      "           0       1.00      1.00      1.00    284315\n",
      "           1       0.20      0.57      0.30       492\n",
      "\n",
      "    accuracy                           1.00    284807\n",
      "   macro avg       0.60      0.78      0.65    284807\n",
      "weighted avg       1.00      1.00      1.00    284807\n",
      "\n"
     ]
    }
   ],
   "source": [
    "# Checking for suspicious transactions that has '3' votes\n",
    "\n",
    "X['vote3'] = X.index.values\n",
    "vote_range = Votelist[Votelist['Vote']==3]['Transaction'].values\n",
    "\n",
    "new_vote3 = X['vote3'].isin(vote_range)\n",
    "\n",
    "X['vote3'] = np.where(new_vote3==False,0,1)\n",
    "\n",
    "print(confusion_matrix(y,X['vote3']))\n",
    "print(classification_report(y,X['vote3']))"
   ]
  },
  {
   "cell_type": "code",
   "execution_count": 237,
   "metadata": {},
   "outputs": [
    {
     "name": "stdout",
     "output_type": "stream",
     "text": [
      "[[283114   1201]\n",
      " [   451     41]]\n",
      "              precision    recall  f1-score   support\n",
      "\n",
      "           0       1.00      1.00      1.00    284315\n",
      "           1       0.03      0.08      0.05       492\n",
      "\n",
      "    accuracy                           0.99    284807\n",
      "   macro avg       0.52      0.54      0.52    284807\n",
      "weighted avg       1.00      0.99      1.00    284807\n",
      "\n"
     ]
    }
   ],
   "source": [
    "# Checking for suspicious transactions that has '2' votes\n",
    "X['vote2'] = X.index.values\n",
    "vote_range = Votelist[Votelist['Vote']==2]['Transaction'].values\n",
    "\n",
    "new_vote2 = X['vote2'].isin(vote_range)\n",
    "\n",
    "X['vote2'] = np.where(new_vote2==False,0,1)\n",
    "\n",
    "print(confusion_matrix(y,X['vote2']))\n",
    "print(classification_report(y,X['vote2']))"
   ]
  },
  {
   "cell_type": "code",
   "execution_count": 239,
   "metadata": {
    "scrolled": true
   },
   "outputs": [
    {
     "name": "stdout",
     "output_type": "stream",
     "text": [
      "[[282443   1872]\n",
      " [   456     36]]\n",
      "              precision    recall  f1-score   support\n",
      "\n",
      "           0       1.00      0.99      1.00    284315\n",
      "           1       0.02      0.07      0.03       492\n",
      "\n",
      "    accuracy                           0.99    284807\n",
      "   macro avg       0.51      0.53      0.51    284807\n",
      "weighted avg       1.00      0.99      0.99    284807\n",
      "\n"
     ]
    }
   ],
   "source": [
    "# Checking for suspicious transactions that has '1' votes\n",
    "X['vote1'] = X.index.values\n",
    "vote_range = Votelist[Votelist['Vote']==1]['Transaction'].values\n",
    "\n",
    "new_vote1 = X['vote1'].isin(vote_range)\n",
    "\n",
    "X['vote1'] = np.where(new_vote1==False,0,1)\n",
    "\n",
    "print(confusion_matrix(y,X['vote1']))\n",
    "print(classification_report(y,X['vote1']))"
   ]
  },
  {
   "cell_type": "markdown",
   "metadata": {},
   "source": [
    "Disappointingly enough, the recall has not gone up enough as much as I expected. I am not able to explain why it did not go up much higher than using one best unsupervised machine learning model(HBOS) at this stage yet.\n",
    "\n",
    "However what separated suspicious transactions by its number of votes it had. We saw that transactions with 3 votes got higher precision even though the recall score has gone down. Which is obvious because we predicted way less numbers of transactions as suspicious. We can see that at least my theory about transactions with the highest number of votes being most suspicious is correct. \n",
    "\n",
    "Precision score is not to be ignored because too low precision score will impact your business as it will interfere with the flow of business by investigating each one of them.\n",
    "\n",
    "I believe it would have been different if we had more dataset or if I had done more feature engineering with non-anonymized feature dataset."
   ]
  },
  {
   "cell_type": "markdown",
   "metadata": {},
   "source": [
    "# Conclusion and Future plan"
   ]
  },
  {
   "cell_type": "markdown",
   "metadata": {},
   "source": [
    "For anomaly detection in financial crimes like credit card frauds, it would be best to tackle the issue from various angles which means we want to use multiple models even for the slightest improvement.\n",
    "\n",
    "Hopefully with different and larger dataset my way of ensembling multiple models will be proven more effective than what we saw today.\n",
    "\n",
    "We would have been able to do many more feature engineering than just 2 that I did today with full access to features. \n",
    "\n",
    "One day we will try outlier detection with different dataset such as network intrusion or fund transaction for money laundering detection."
   ]
  }
 ],
 "metadata": {
  "kernelspec": {
   "display_name": "Python 3",
   "language": "python",
   "name": "python3"
  },
  "language_info": {
   "codemirror_mode": {
    "name": "ipython",
    "version": 3
   },
   "file_extension": ".py",
   "mimetype": "text/x-python",
   "name": "python",
   "nbconvert_exporter": "python",
   "pygments_lexer": "ipython3",
   "version": "3.6.9"
  }
 },
 "nbformat": 4,
 "nbformat_minor": 2
}
